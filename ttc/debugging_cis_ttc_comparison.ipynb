{
 "cells": [
  {
   "cell_type": "markdown",
   "metadata": {},
   "source": [
    "# Debugging why CIS-TTC comparison results in ~2x processed data #134"
   ]
  },
  {
   "cell_type": "code",
   "execution_count": 1,
   "metadata": {
    "collapsed": true
   },
   "outputs": [],
   "source": [
    "from psycopg2 import connect\n",
    "import configparser\n",
    "%matplotlib inline\n",
    "import numpy as np\n",
    "import pandas as pd\n",
    "import pandas.io.sql as pandasql\n",
    "import matplotlib.pyplot as plt\n",
    "import matplotlib as mpl\n",
    "import seaborn as sns\n",
    "import matplotlib.ticker as ticker\n",
    "import folium\n",
    "\n",
    "CONFIG = configparser.ConfigParser()\n",
    "CONFIG.read('db.cfg')\n",
    "dbset = CONFIG['DBSETTINGS']\n",
    "con = connect(**dbset)\n",
    "\n",
    "from IPython.display import HTML\n",
    "\n",
    "def print_table(sql, con):\n",
    "    return HTML(pandasql.read_sql(sql, con).to_html(index=False))"
   ]
  },
  {
   "cell_type": "markdown",
   "metadata": {},
   "source": [
    "## Looking at GTFS Data "
   ]
  },
  {
   "cell_type": "markdown",
   "metadata": {},
   "source": [
    "The counts for the query below for one day of the route 514 is never more than 102. So the maximum count over 7 days for any segment of a route should be 714. Looking at the data from the ttc and our analysis, the TTC seems to be fairly accurate with their counts (it could be undercounting due to filtering out some trips). Some of our general counts are very high, some are ever about 1100 for the week. So it seems that our data processing is overcounting. \n",
    "\n",
    "The highest count for the 504 is 259 per day, so the total count for 7 days should not exceed 1813. The TTC processed data does not exceed 1813, but our processed data can have counts as high as over 4500. \n",
    "\n",
    "```sql\n",
    "WITH to_stop_table AS (\n",
    "SELECT stop_id to_stop, t.trip_id, direction_id, arrival_time\n",
    "FROM crosic.stop_times_20171119_20171125 s LEFT JOIN crosic.trips_20171119_20171125 t ON s.trip_id = t.trip_id\n",
    "INNER JOIN crosic.routes_20171119_20171125 r ON t.route_id = r.route_id\n",
    "WHERE route_short_name = '514' AND s.stop_id IN (SELECT to_stop_id FROM crosic.section_runs)), \n",
    "\n",
    "from_stop_table AS (\n",
    "SELECT stop_id from_stop, t.trip_id, direction_id, departure_time\n",
    "FROM crosic.stop_times_20171119_20171125 s LEFT JOIN crosic.trips_20171119_20171125 t ON s.trip_id = t.trip_id\n",
    "INNER JOIN crosic.routes_20171119_20171125 r ON t.route_id = r.route_id\n",
    "WHERE route_short_name = '514' AND s.stop_id IN (SELECT from_stop_id FROM crosic.section_runs)\n",
    "), \n",
    "\n",
    "stops AS (\n",
    "SELECT to_stop, from_stop, t.direction_id, t.trip_id, arrival_time, departure_time \n",
    "FROM from_stop_table f JOIN to_stop_table t ON f.trip_id = t.trip_id and f.direction_id = t.direction_id\n",
    ")\n",
    "\n",
    "SELECT to_stop, from_stop, direction_id, \n",
    "AVG(EXTRACT(EPOCH FROM arrival_time - departure_time)) /60 AS time_diff_minutes_gtfs, COUNT(*) cnt\n",
    "FROM stops\n",
    "WHERE arrival_time > departure_time\n",
    "GROUP BY to_stop, from_stop, direction_id; \n",
    "```"
   ]
  },
  {
   "cell_type": "markdown",
   "metadata": {},
   "source": [
    "## Compare trip counts of temporary tables from count queries"
   ]
  },
  {
   "cell_type": "markdown",
   "metadata": {},
   "source": [
    "There might be an issue with how the data is being counted, since the `trip_id` counts between the TTC processed CIS data and our processed CIS data are very different (our data has up to 4x more trips than the TTC data). \n",
    "\n",
    "The first step in investigating if my queries that count the number of trips in our CIS processed data are correct is to look at the first part of the queries and look at the temporary tables created in the query. \n",
    "\n",
    "An example of a count query (found in `comparing_ttc_data` notebook) that counts the overall number of trips between the segments is: \n",
    "```sql \n",
    "WITH to_stop_table AS (\n",
    "SELECT t.stop_id to_stop, trip_id, direction_id, arrival_time\n",
    "FROM crosic.cis_504_11192017_11252017_tripids t\n",
    "WHERE t.stop_id IN (SELECT to_stop_id FROM crosic.section_runs)\n",
    "),\n",
    "\n",
    "from_stop_table AS (\n",
    "SELECT t.stop_id from_stop, trip_id, direction_id, departure_time\n",
    "FROM crosic.cis_504_11192017_11252017_tripids t \n",
    "WHERE t.stop_id IN (SELECT from_stop_id FROM crosic.section_runs)\n",
    "), \n",
    "\n",
    "stops AS (\n",
    "SELECT to_stop, from_stop, t.direction_id, t.trip_id, arrival_time, departure_time -- , \n",
    "-- AVG(EXTRACT(EPOCH FROM arrival_time - departure_time)) /60 AS time_diff_minutes_our_cis\n",
    "FROM from_stop_table f JOIN to_stop_table t ON f.trip_id = t.trip_id and f.direction_id = t.direction_id\n",
    "WHERE arrival_time > departure_time and from_stop <> to_stop\n",
    "-- GROUP BY to_stop, from_stop, t.direction_id\n",
    "),\n",
    "\n",
    "ttc_cis AS (\n",
    "SELECT DISTINCT fromstopname, tostopname, directionid, COUNT(*) cnt, to_stop_id, from_stop_id, routenumber,\n",
    "AVG(EXTRACT(EPOCH FROM (to_char(journeydate, 'YYYY-MM-DD') || ' ' || to_char(toarrstoptime, 'HH24:MI:SS'))::timestamp\n",
    "- (to_char(journeydate, 'YYYY-MM-DD') || ' ' || to_char(fromstopdepaturetime, 'HH24:MI:SS'))::timestamp)  ) /60\n",
    "AS time_diff_minutes_ttc\n",
    "FROM section_runs\n",
    "WHERE routenumber = 504 and toarrstoptime > fromstopdepaturetime\n",
    "GROUP BY fromstopname, tostopname, to_stop_id, from_stop_id, directionid, routenumber\n",
    "ORDER BY time_diff_minutes_ttc\n",
    ")\n",
    "\n",
    "SELECT routenumber, to_stop_id, from_stop_id,  fromstopname, tostopname, directionid, cnt cnt_ttc, time_diff_minutes_ttc, \n",
    "COUNT(*) cnt_our_cis , AVG(EXTRACT(EPOCH FROM arrival_time - departure_time)) /60 AS time_diff_minutes_our_cis\n",
    "FROM stops s JOIN ttc_cis ttc ON s.to_stop = ttc.to_stop_id AND s.from_stop = ttc.from_stop_id \n",
    "WHERE s.direction_id = ttc.directionid and ttc.routenumber = 504 -- and arrival_time > departure_time\n",
    "GROUP BY to_stop_id, from_stop_id,  fromstopname, tostopname, directionid, ttc.cnt, time_diff_minutes_ttc, routenumber\n",
    "ORDER BY time_diff_minutes_ttc, time_diff_minutes_our_cis; \n",
    "```\n",
    "\n",
    "To investigate this possibility further, the following queries count how many trips are being examined from both the TTC and the CIS dataset. Basically, my queries that count the number of trips that occur use multiple temporary tables to get their count numbers. Some temporary tables are created from from our processed CIS data, and some are created from the TTC's processed CIS data. The queries below look at the number of trips that are examined later in the overall count query as a result of both the temporary tables that pull from our processed data and the TTC's processed data.\n",
    "\n",
    "A relatively similar number of trips are being pulled from the temporary queries. "
   ]
  },
  {
   "cell_type": "markdown",
   "metadata": {},
   "source": [
    "#### Route 504"
   ]
  },
  {
   "cell_type": "code",
   "execution_count": 2,
   "metadata": {},
   "outputs": [
    {
     "data": {
      "text/html": [
       "<div>\n",
       "<style>\n",
       "    .dataframe thead tr:only-child th {\n",
       "        text-align: right;\n",
       "    }\n",
       "\n",
       "    .dataframe thead th {\n",
       "        text-align: left;\n",
       "    }\n",
       "\n",
       "    .dataframe tbody tr th {\n",
       "        vertical-align: top;\n",
       "    }\n",
       "</style>\n",
       "<table border=\"1\" class=\"dataframe\">\n",
       "  <thead>\n",
       "    <tr style=\"text-align: right;\">\n",
       "      <th></th>\n",
       "      <th>count</th>\n",
       "    </tr>\n",
       "  </thead>\n",
       "  <tbody>\n",
       "    <tr>\n",
       "      <th>0</th>\n",
       "      <td>3551</td>\n",
       "    </tr>\n",
       "  </tbody>\n",
       "</table>\n",
       "</div>"
      ],
      "text/plain": [
       "   count\n",
       "0   3551"
      ]
     },
     "execution_count": 2,
     "metadata": {},
     "output_type": "execute_result"
    }
   ],
   "source": [
    "# our processed data\n",
    "# look at to_stop_table, from_stop_table, and stops temporary tables\n",
    "sql_debug1_504 = '''\n",
    "\n",
    "WITH to_stop_table AS (\n",
    "SELECT t.stop_id to_stop, trip_id, direction_id, arrival_time\n",
    "FROM crosic.cis_504_11192017_11252017_tripids t\n",
    "WHERE t.stop_id IN (SELECT to_stop_id FROM crosic.section_runs WHERE routenumber = 504)\n",
    "),\n",
    "\n",
    "from_stop_table AS (\n",
    "SELECT t.stop_id from_stop, trip_id, direction_id, departure_time\n",
    "FROM crosic.cis_504_11192017_11252017_tripids t \n",
    "WHERE t.stop_id IN (SELECT from_stop_id FROM crosic.section_runs WHERE routenumber = 504)\n",
    ")\n",
    "\n",
    "SELECT COUNT(DISTINCT t.trip_id) \n",
    "FROM from_stop_table f INNER JOIN to_stop_table t ON f.trip_id = t.trip_id and f.direction_id = t.direction_id\n",
    "WHERE from_stop <> to_stop; \n",
    "'''\n",
    "\n",
    "pandasql.read_sql(sql_debug1_504, con)"
   ]
  },
  {
   "cell_type": "code",
   "execution_count": 3,
   "metadata": {},
   "outputs": [
    {
     "data": {
      "text/html": [
       "<div>\n",
       "<style>\n",
       "    .dataframe thead tr:only-child th {\n",
       "        text-align: right;\n",
       "    }\n",
       "\n",
       "    .dataframe thead th {\n",
       "        text-align: left;\n",
       "    }\n",
       "\n",
       "    .dataframe tbody tr th {\n",
       "        vertical-align: top;\n",
       "    }\n",
       "</style>\n",
       "<table border=\"1\" class=\"dataframe\">\n",
       "  <thead>\n",
       "    <tr style=\"text-align: right;\">\n",
       "      <th></th>\n",
       "      <th>count</th>\n",
       "    </tr>\n",
       "  </thead>\n",
       "  <tbody>\n",
       "    <tr>\n",
       "      <th>0</th>\n",
       "      <td>3724</td>\n",
       "    </tr>\n",
       "  </tbody>\n",
       "</table>\n",
       "</div>"
      ],
      "text/plain": [
       "   count\n",
       "0   3724"
      ]
     },
     "execution_count": 3,
     "metadata": {},
     "output_type": "execute_result"
    }
   ],
   "source": [
    "# TTC processed data \n",
    "# look at ttc_cis temp table\n",
    "sql_debug2_504 = '''\n",
    "\n",
    "SELECT COUNT(DISTINCT ah_tripid)\n",
    "FROM section_runs\n",
    "WHERE routenumber = 504 AND from_stop_id <> to_stop_id; \n",
    "'''\n",
    "\n",
    "pandasql.read_sql(sql_debug2_504, con)"
   ]
  },
  {
   "cell_type": "markdown",
   "metadata": {},
   "source": [
    "#### Route 514"
   ]
  },
  {
   "cell_type": "code",
   "execution_count": 9,
   "metadata": {},
   "outputs": [
    {
     "data": {
      "text/html": [
       "<div>\n",
       "<style>\n",
       "    .dataframe thead tr:only-child th {\n",
       "        text-align: right;\n",
       "    }\n",
       "\n",
       "    .dataframe thead th {\n",
       "        text-align: left;\n",
       "    }\n",
       "\n",
       "    .dataframe tbody tr th {\n",
       "        vertical-align: top;\n",
       "    }\n",
       "</style>\n",
       "<table border=\"1\" class=\"dataframe\">\n",
       "  <thead>\n",
       "    <tr style=\"text-align: right;\">\n",
       "      <th></th>\n",
       "      <th>count</th>\n",
       "    </tr>\n",
       "  </thead>\n",
       "  <tbody>\n",
       "    <tr>\n",
       "      <th>0</th>\n",
       "      <td>1275</td>\n",
       "    </tr>\n",
       "  </tbody>\n",
       "</table>\n",
       "</div>"
      ],
      "text/plain": [
       "   count\n",
       "0   1275"
      ]
     },
     "execution_count": 9,
     "metadata": {},
     "output_type": "execute_result"
    }
   ],
   "source": [
    "# our processed data \n",
    "# look at to_stop_table, from_stop_table, and stops temporary tables\n",
    "sql_debug1_514 = '''\n",
    "\n",
    "WITH to_stop_table AS (\n",
    "SELECT t.stop_id to_stop, trip_id, direction_id, arrival_time\n",
    "FROM crosic.cis_514_11192017_11252017_tripids t\n",
    "WHERE t.stop_id IN (SELECT to_stop_id FROM crosic.section_runs WHERE routenumber = 514)\n",
    "),\n",
    "\n",
    "from_stop_table AS (\n",
    "SELECT t.stop_id from_stop, trip_id, direction_id, departure_time\n",
    "FROM crosic.cis_514_11192017_11252017_tripids t \n",
    "WHERE t.stop_id IN (SELECT from_stop_id FROM crosic.section_runs WHERE routenumber = 514)\n",
    ")\n",
    "\n",
    "SELECT COUNT(DISTINCT t.trip_id) \n",
    "FROM from_stop_table f INNER JOIN to_stop_table t ON f.trip_id = t.trip_id and f.direction_id = t.direction_id\n",
    "WHERE from_stop <> to_stop; \n",
    "'''\n",
    "\n",
    "pandasql.read_sql(sql_debug1_514, con)"
   ]
  },
  {
   "cell_type": "code",
   "execution_count": 8,
   "metadata": {},
   "outputs": [
    {
     "data": {
      "text/html": [
       "<div>\n",
       "<style>\n",
       "    .dataframe thead tr:only-child th {\n",
       "        text-align: right;\n",
       "    }\n",
       "\n",
       "    .dataframe thead th {\n",
       "        text-align: left;\n",
       "    }\n",
       "\n",
       "    .dataframe tbody tr th {\n",
       "        vertical-align: top;\n",
       "    }\n",
       "</style>\n",
       "<table border=\"1\" class=\"dataframe\">\n",
       "  <thead>\n",
       "    <tr style=\"text-align: right;\">\n",
       "      <th></th>\n",
       "      <th>count</th>\n",
       "    </tr>\n",
       "  </thead>\n",
       "  <tbody>\n",
       "    <tr>\n",
       "      <th>0</th>\n",
       "      <td>1351</td>\n",
       "    </tr>\n",
       "  </tbody>\n",
       "</table>\n",
       "</div>"
      ],
      "text/plain": [
       "   count\n",
       "0   1351"
      ]
     },
     "execution_count": 8,
     "metadata": {},
     "output_type": "execute_result"
    }
   ],
   "source": [
    "# TTC processed data \n",
    "# look at ttc_cis temp table\n",
    "sql_debug2_514 = '''\n",
    "\n",
    "SELECT COUNT(DISTINCT ah_tripid)\n",
    "FROM section_runs\n",
    "WHERE routenumber = 514 AND from_stop_id <> to_stop_id; \n",
    "'''\n",
    "\n",
    "pandasql.read_sql(sql_debug2_514, con)"
   ]
  },
  {
   "cell_type": "code",
   "execution_count": 10,
   "metadata": {
    "collapsed": true
   },
   "outputs": [],
   "source": [
    "con.close()"
   ]
  }
 ],
 "metadata": {
  "kernelspec": {
   "display_name": "Python 3",
   "language": "python",
   "name": "python3"
  },
  "language_info": {
   "codemirror_mode": {
    "name": "ipython",
    "version": 3
   },
   "file_extension": ".py",
   "mimetype": "text/x-python",
   "name": "python",
   "nbconvert_exporter": "python",
   "pygments_lexer": "ipython3",
   "version": "3.6.2"
  }
 },
 "nbformat": 4,
 "nbformat_minor": 2
}
