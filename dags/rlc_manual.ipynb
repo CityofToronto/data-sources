{
 "cells": [
  {
   "cell_type": "markdown",
   "metadata": {},
   "source": [
    "# Manual import of rlc json file from open data portal\n",
    "\n",
    "https://www.postgresqltutorial.com/postgresql-python/query/"
   ]
  },
  {
   "cell_type": "code",
   "execution_count": 1,
   "metadata": {},
   "outputs": [],
   "source": [
    "import os\n",
    "from psycopg2 import connect\n",
    "import configparser\n",
    "import numpy as np\n",
    "\n",
    "import requests\n",
    "from psycopg2.extras import execute_values\n",
    "\n",
    "import pandas as pd\n",
    "import pandas.io.sql as pandasql\n",
    "\n",
    "import csv"
   ]
  },
  {
   "cell_type": "code",
   "execution_count": 2,
   "metadata": {},
   "outputs": [],
   "source": [
    "CONFIG=configparser.ConfigParser()\n",
    "CONFIG.read('/home/cnangini/db.cfg')\n",
    "dbset=CONFIG['DBSETTINGS']\n",
    "conn=connect(**dbset)\n",
    "i=0"
   ]
  },
  {
   "cell_type": "code",
   "execution_count": null,
   "metadata": {},
   "outputs": [],
   "source": []
  },
  {
   "cell_type": "markdown",
   "metadata": {},
   "source": [
    "# Functions"
   ]
  },
  {
   "cell_type": "code",
   "execution_count": 3,
   "metadata": {},
   "outputs": [],
   "source": [
    "def pull_rlc(conn):\n",
    "  '''\n",
    "  Connect to bigdata RDS, pull Red Light Camera json file from Open Data API,\n",
    "  and overwrite existing rlc table in the vz_safety_programs_staging schema.\n",
    "  '''\n",
    "\n",
    "  local_table='vz_safety_programs_staging.rlc_manual'\n",
    "\n",
    "  url = \"https://secure.toronto.ca/opendata/cart/red_light_cameras.json\"\n",
    "  return_json = requests.get(url).json()\n",
    "  rows = [list(feature.values()) for feature in return_json]\n",
    "  insert = 'INSERT INTO {0} VALUES %s'.format(local_table)\n",
    "  with conn:\n",
    "    with conn.cursor() as cur:\n",
    "        print(cur)\n",
    "        print(insert)\n",
    "        print(rows)\n",
    "        execute_values(cur, insert, rows)\n",
    "        print(rows)"
   ]
  },
  {
   "cell_type": "code",
   "execution_count": 4,
   "metadata": {},
   "outputs": [],
   "source": [
    "def pull_rlc_csv(conn):\n",
    "  '''\n",
    "  Connect to bigdata RDS, pull Red Light Camera json file from Open Data API,\n",
    "  and overwrite existing rlc table in the vz_safety_programs_staging schema.\n",
    "  '''\n",
    "\n",
    "  local_table='vz_safety_programs_staging.rlc_fromcsv'\n",
    "\n",
    "  url = \"https://secure.toronto.ca/opendata/cart/red_light_cameras.csv\"\n",
    "\n",
    "  with requests.Session() as s:\n",
    "    download = s.get(url)\n",
    "    print(download)\n",
    "    \n",
    "    decoded_content = download.content.decode('utf-8')\n",
    "\n",
    "    cr = csv.reader(decoded_content.splitlines(), delimiter=',')\n",
    "    my_list = list(cr)\n",
    "    for row in my_list:\n",
    "        if row != ['RLC']:\n",
    "            print(row)\n",
    "            \n",
    "    cur = conn.cursor()\n",
    "    insert_query = \"INSERT INTO users VALUES {}\".format(\"(10, 'hello@dataquest.io', 'Some Name', '123 Fake St.')\")\n",
    "    cur.execute(insert_query)\n",
    "    conn.commit()"
   ]
  },
  {
   "cell_type": "markdown",
   "metadata": {},
   "source": [
    "# Truncate view, pull from open data, and check"
   ]
  },
  {
   "cell_type": "code",
   "execution_count": 5,
   "metadata": {},
   "outputs": [],
   "source": [
    "# pull_rlc_csv(conn)"
   ]
  },
  {
   "cell_type": "markdown",
   "metadata": {},
   "source": [
    "## Truncate first"
   ]
  },
  {
   "cell_type": "code",
   "execution_count": 6,
   "metadata": {},
   "outputs": [],
   "source": [
    "query='''\n",
    "TRUNCATE vz_safety_programs_staging.rlc_manual;\n",
    "'''\n",
    "\n",
    "cur = conn.cursor()\n",
    "cur.execute(query)\n",
    "cur.close()"
   ]
  },
  {
   "cell_type": "code",
   "execution_count": 7,
   "metadata": {},
   "outputs": [
    {
     "name": "stdout",
     "output_type": "stream",
     "text": [
      "(0,)\n"
     ]
    }
   ],
   "source": [
    "# Check size\n",
    "\n",
    "query='''\n",
    "SELECT COUNT(*) FROM vz_safety_programs_staging.rlc_manual;\n",
    "'''\n",
    "\n",
    "cur = conn.cursor()\n",
    "cur.execute(query)\n",
    "row = cur.fetchone()\n",
    "print(row)\n",
    "\n",
    "cur.close()"
   ]
  },
  {
   "cell_type": "code",
   "execution_count": null,
   "metadata": {},
   "outputs": [],
   "source": []
  },
  {
   "cell_type": "markdown",
   "metadata": {},
   "source": [
    "## Pull from open data"
   ]
  },
  {
   "cell_type": "code",
   "execution_count": 8,
   "metadata": {},
   "outputs": [
    {
     "name": "stdout",
     "output_type": "stream",
     "text": [
      "<cursor object at 0x7fae6ad97ed0; closed: 0>\n",
      "INSERT INTO vz_safety_programs_staging.rlc_manual VALUES %s\n",
      "[['PARLIAMENT ST', -79.364023, None, None, 'Richmond St E And Parliament St', '6001', None, 4834744.176, '0223', None, 'Toronto and East York', 'RICHMOND ST E', None, None, '2007-11-09', 315752.39, None, 43.654559, None, 'Toronto Centre(13)', '51', None], ['YORK ST', -79.380868, None, None, 'Lake Shore Blvd W And York St', '6002', None, 4833286.82, '0205', None, 'Toronto and East York', 'LAKE SHORE BLVD W', None, None, '2007-11-09', 314395.743, None, 43.64146, 'WB LAKE SHORE BLVD', 'Spadina-Fort York(10)', '52', None], ['CARPENTER RD', -79.447589, None, None, 'Steeles Ave W And Carpenter Rd / Private Access @ Shopping Centre', '6003', None, 4850007.08, '1564', None, 'North York', 'STEELES AVE W', None, None, '2007-11-09', 309002.26, 'PRIVATE ACCESS', 43.792013, None, 'York Centre(6)', '32', 'SHOPPING CENTRE'], ['HILDA AVE', -79.429267, None, None, 'Steeles Ave W And Hilda Ave', '6004', None, 4850451.93, '1115', None, 'North York', 'STEELES AVE W', None, None, '2007-11-09', 310476.393, None, 43.796007, None, 'Willowdale(18)', '32', None], ['SILVERSTONE DR', -79.600094, None, None, 'Albion Rd And Silverstone Dr', '6005', None, 4844560.267, '1156', None, 'Etobicoke York', 'ALBION RD', None, None, '2007-11-09', 296722.34, None, 43.742952, None, 'Etobicoke North(1)', '23', None], ['KIPLING AVE', -79.558649, None, 'Etobicoke Centre(2)', 'Dixon Rd And Kipling Ave', '6007', None, 4839146.429, '0435', None, 'Etobicoke York', 'DIXON RD', None, None, '2008-03-18', 300056.572, None, 43.694249, None, 'Etobicoke North(1)', '23', None], ['ISLINGTON AVE', -79.574871, None, None, 'Steeles Ave W And Islington Ave', '6008', None, 4846934.532, '1208', None, 'Etobicoke York', 'STEELES AVE W', None, None, '2008-10-28', 298756.083, None, 43.764343, None, 'Humber River-Black Creek(7)', '31', None], ['WILSON HEIGHTS BLVD', -79.456751, None, None, 'Sheppard Ave W And Wilson Heights Blvd', '6009', None, 4845523.933, '0631', None, 'North York', 'SHEPPARD AVE W', None, None, '2009-03-17', 308267.284, None, 43.751663, None, 'York Centre(6)', '32', None], ['SHEPPARD AVE W', -79.438481, None, None, 'Bathurst St And Sheppard Ave W', '6010', None, 4845946.453, '0672', None, 'North York', 'BATHURST ST', None, None, '2007-11-09', 309738.27, None, 43.755458, None, 'York Centre(6)', '32', None], ['MARLEE AVE', -79.44652, None, None, 'Lawrence Ave W And Marlee Ave / Private Access @ Lawrence Square Access', '6011', '13', 4841519.636, '0425', None, 'North York', 'LAWRENCE AVE W', None, None, '2008-03-19', 309093.674, 'PRIVATE ACCESS', 43.715615, None, 'Eglinton-Lawrence(8)', '32', 'LAWRENCE SQUARE ACCESS'], ['LAWRENCE AVE W', -79.429816, None, None, 'Bathurst St And Lawrence Ave W', '6012', '13', 4841925.391, '0423', '53', 'North York', 'BATHURST ST', None, None, '2008-08-11', 310439.387, None, 43.719258, None, 'Eglinton-Lawrence(8)', '32', None], ['CUMMER AVE', -79.393596, None, 'Don Valley North(17)', 'Bayview Ave And Cummer Ave', '6013', '32', 4850042.782, '0651', None, 'North York', 'BAYVIEW AVE', None, None, '2009-03-17', 313347.487, None, 43.792297, None, 'Willowdale(18)', '33', None], ['WILLOWDALE AVE', -79.407105, None, None, 'Finch Ave E And Willowdale Ave', '6014', None, 4848855.869, '0807', None, 'North York', 'FINCH AVE E', None, None, '2009-03-17', 312261.639, None, 43.781625, None, 'Willowdale(18)', '32', None], ['LAWRENCE AVE E', -79.355979, None, 'Don Valley East(16)', 'Leslie St And Lawrence Ave E', '6015', None, 4843630.205, '0400', None, 'North York', 'LESLIE ST', None, None, '2008-05-29', 316385.849, None, 43.734535, None, 'Don Valley West(15)', '33', None], ['YORK MILLS RD', -79.35997, None, 'Don Valley East(16)', 'Leslie St And York Mills Rd', '6016', None, 4845675.924, '0755', None, 'North York', 'LESLIE ST', None, None, '2009-08-05', 316060.929, None, 43.752954, None, 'Don Valley West(15)', '33', None], ['TRUMAN RD', -79.386635, None, None, 'Bayview Ave And Truman Rd / Fifeshire Rd', '6017', '32', 4846520.544, '1083', None, 'North York', 'BAYVIEW AVE', None, None, '2008-03-31', 313912.466, 'FIFESHIRE RD', 43.760586, None, 'Don Valley West(15)', '33', None], ['MCNICOLL AVE', -79.292218, None, 'Scarborough North(23)', 'Midland Ave And Mcnicoll Ave', '6018', None, 4852533.556, '1540', None, 'Scarborough', 'MIDLAND AVE', None, None, '2008-10-09', 321500.004, None, 43.814578, None, 'Scarborough-Agincourt(22)', '42', None], ['BIRCHMOUNT RD', -79.316925, None, None, 'Steeles Ave E And Birchmount Rd', '6019', None, 4853285.922, '1363', None, 'Scarborough', 'STEELES AVE E', None, None, '2009-03-17', 319510.706, None, 43.821392, None, 'Scarborough-Agincourt(22)', '42', None], ['ARKONA DR', -79.305356, None, None, 'Warden Ave And Arkona Dr / Cloverleaf Gt', '6020', None, 4847921.666, '0927', None, 'Scarborough', 'WARDEN AVE', None, None, '2008-08-11', 320453.781, 'CLOVERLEAF GT', 43.773089, None, 'Scarborough-Agincourt(22)', '42', None], ['BRIMLEY RD', -79.287202, None, None, 'Steeles Ave E And Brimley Rd', '6021', None, 4854058.396, '1491', None, 'Scarborough', 'STEELES AVE E', None, None, '2008-05-29', 321899.669, None, 43.828294, None, 'Scarborough North(23)', '42', None], ['BATHURST ST', -79.407722, None, None, 'College St And Bathurst St', '6022', None, 4834952.829, '0300', None, 'Toronto and East York', 'COLLEGE ST', None, None, '2008-08-11', 312227.298, None, 43.656481, None, 'University-Rosedale(11)', '14', None], ['LAWRENCE AVE E', -79.186225, None, 'Scarborough-Rouge Park(25)', 'Morningside Ave And Lawrence Ave E', '6023', None, 4847430.889, '0499', None, 'Scarborough', 'MORNINGSIDE AVE', None, None, '2008-08-11', 330046.044, None, 43.768408, None, 'Scarborough-Guildwood(24)', '43', None], ['CARLINGVIEW DR', -79.595566, None, None, 'Dixon Rd And Carlingview Dr', '6024', None, 4838316.754, '0536', None, 'Etobicoke York', 'DIXON RD', None, None, '2009-03-19', 297079.782, None, 43.686757, None, 'Etobicoke North(1)', '23', None], ['GLENCAIRN AVE', -79.45318, None, None, 'Dufferin St And Glencairn Ave', '6025', None, 4840560.236, '0613', None, 'North York', 'DUFFERIN ST', None, None, '2009-03-19', 308557.536, None, 43.706982, None, 'Eglinton-Lawrence(8)', '13', None], ['THORNCLIFFE PARK DR', -79.343625, None, None, 'Overlea Blvd And Thorncliffe Park Dr', '6026', None, 4840625.566, '0679', None, 'North York', 'OVERLEA BLVD', None, None, '2008-10-29', 317386.689, None, 43.707473, 'EAST INTERSECTION', 'Don Valley West(15)', '53', None], ['ELLESMERE RD', -79.281078, None, None, 'Kennedy Rd And Ellesmere Rd', '6027', None, 4847116.998, '0696', None, 'Scarborough', 'KENNEDY RD', None, None, '2008-03-28', 322410.332, None, 43.765802, None, 'Scarborough Centre(21)', '41', None], ['FINCH AVE E', -79.368067, None, None, 'Leslie St And Finch Ave E', '6028', None, 4849791.832, '0868', None, 'North York', 'LESLIE ST', None, None, '2008-10-21', 315402.376, None, 43.790012, None, 'Don Valley North(17)', '33', None], ['HUNTINGWOOD DR', -79.302295, None, None, 'Birchmount Rd And Huntingwood Dr', '6029', None, 4849849.911, '0987', None, 'Scarborough', 'BIRCHMOUNT RD', None, None, '2009-03-17', 320695.646, None, 43.79044, None, 'Scarborough-Agincourt(22)', '42', None], ['PORT UNION RD', -79.146223, None, None, 'Kingston Rd And Port Union Rd / Sheppard Ave E', '6030', None, 4850834.014, '1201', None, 'Scarborough', 'KINGSTON RD', None, None, '2008-03-18', 333252.16, 'SHEPPARD AVE E', 43.798924, None, 'Scarborough-Rouge Park(25)', '42', None], ['THE WEST MALL', -79.562318, None, None, 'Bloor St W And The West Mall', '6031', None, 4832633.678, '0793', None, 'Etobicoke York', 'BLOOR ST W', None, None, '2009-03-19', 299755.818, None, 43.635625, None, 'Etobicoke Centre(2)', '22', None], ['THE WEST MALL', -79.562677, None, None, 'The Queensway And The West Mall', '6032', None, 4830043.238, '0912', None, 'Etobicoke York', 'THE QUEENSWAY', None, None, '2008-11-20', 299724.919, None, 43.612307, None, 'Etobicoke-Lakeshore(3)', '22', None], ['THIRTY SEVENTH ST', -79.53818, None, None, 'Lake Shore Blvd W And Thirty Seventh St / Private Access', '6033', None, 4827941.147, '0241', None, 'Etobicoke York', 'LAKE SHORE BLVD W', None, None, '2009-03-19', 301701.37, 'PRIVATE ACCESS', 43.593396, None, 'Etobicoke-Lakeshore(3)', '22', None], ['HORNER AVE', -79.520751, None, None, 'Kipling Ave And Horner Ave', '6034', None, 4829474.321, '0764', None, 'Etobicoke York', 'KIPLING AVE', None, None, '2008-03-19', 303109.001, None, 43.607201, None, 'Etobicoke-Lakeshore(3)', '22', None], ['NORTH QUEEN ST', -79.556154, None, None, 'The Queensway And North Queen St / Private Access @ Sherway Gardens', '6035', None, 4830255.048, '0917', None, 'Etobicoke York', 'THE QUEENSWAY', None, None, '2009-04-02', 300251.589, 'PRIVATE ACCESS', 43.614217, None, 'Etobicoke-Lakeshore(3)', '22', 'SHERWAY GARDENS'], ['TRANSIT RD', -79.452863, None, None, 'Wilson Ave And Transit Rd / Billy Bishop Way', '6036', None, 4843493.289, '1237', None, 'North York', 'WILSON AVE', None, None, '2009-08-21', 308581.475, 'BILLY BISHOP WAY', 43.733383, 'WILSON STN ENTRANCE', 'York Centre(6)', '32', None], ['WINDERMERE AVE', -79.468147, None, None, 'Lake Shore Blvd W And Windermere Ave / Private Access', '6037', None, 4832583.87, '0229', None, 'Toronto and East York', 'LAKE SHORE BLVD W', None, None, '2008-05-29', 307354.308, 'PRIVATE ACCESS', 43.635189, None, 'Parkdale-High Park(4)', '11', None], ['MCNICOLL AVE', -79.320975, None, None, 'Warden Ave And Mcnicoll Ave', '6038', None, 4851613.973, '1287', None, 'Scarborough', 'WARDEN AVE', None, None, '2009-03-17', 319188.501, None, 43.806349, None, 'Scarborough-Agincourt(22)', '42', None], ['WILSON AVE', -79.482069, None, None, 'Keele St And Wilson Ave', '6039', None, 4842743.474, '0597', None, 'North York', 'KEELE ST', None, None, '2008-05-29', 306228.868, None, 43.726642, None, 'York Centre(6)', '31', None], ['DUPONT ST', -79.446461, None, None, 'Lansdowne Ave And Dupont St', '6040', None, 4836088.187, '0844', None, 'Toronto and East York', 'LANSDOWNE AVE', None, None, '2008-03-26', 309101.871, None, 43.666725, None, 'Davenport(9)', '11', None], ['LANSDOWNE AVE', -79.43699, None, None, 'Queen St W And Lansdowne Ave / Jameson Ave', '6041', '14', 4833181.932, '1981', None, 'Toronto and East York', 'QUEEN ST W', None, None, '2009-01-21', 309867.888, 'JAMESON AVE', 43.64056, None, 'Parkdale-High Park(4)', '11', None], ['THE EAST MALL', -79.559992, None, None, 'Burnhamthorpe Rd And The East Mall', '6042', None, 4833819.808, '0948', None, 'Etobicoke York', 'BURNHAMTHORPE RD', None, None, '2008-03-26', 299944.395, None, 43.646303, None, 'Etobicoke Centre(2)', '22', None], ['SHEPPARD AVE W', -79.486452, None, None, 'Keele St And Sheppard Ave W', '6043', None, 4844758.11, '0600', None, 'North York', 'KEELE ST', None, None, '2009-03-17', 305875.482, None, 43.744777, None, 'York Centre(6)', '31', None], ['BALA AVE', -79.500601, None, None, 'Jane St And Bala Ave / Emmett Ave', '6045', None, 4838688.431, '1317', None, 'Etobicoke York', 'JANE ST', None, None, '2008-05-16', 304735.709, 'EMMETT AVE', 43.690142, None, 'York South-Weston(5)', '12', None], ['CLAIR RD', -79.513685, None, None, 'Jane St And Clair Rd / Spenvalley Dr', '6046', None, 4844365.179, '1127', None, 'Etobicoke York', 'JANE ST', None, None, '2008-10-09', 303682.054, 'SPENVALLEY DR', 43.74124, None, 'Humber River-Black Creek(7)', '31', None], ['BERMONDSEY RD', -79.307427, None, None, 'O Connor Dr And Bermondsey Rd / Yardley Ave', '6047', None, 4841184.964, '0448', None, 'Toronto and East York', 'O CONNOR DR', None, None, '2008-08-11', 320302.651, 'YARDLEY AVE', 43.712453, None, 'Beaches-East York(19)', '54', None], ['BIRCHMOUNT RD', -79.263999, None, None, 'Danforth Ave And Birchmount Rd', '6048', None, 4839476.365, '0359', None, 'Scarborough', 'DANFORTH AVE', None, None, '2009-04-01', 323807.096, None, 43.696993, None, 'Scarborough Southwest(20)', '41', None], ['THE WESTWAY', -79.542873, None, None, 'Islington Ave And The Westway', '6049', None, 4838520.341, '0711', None, 'Etobicoke York', 'ISLINGTON AVE', None, None, '2008-12-10', 301327.875, None, 43.68862, None, 'Etobicoke Centre(2)', '23', None], ['DAVENPORT RD', -79.415786, None, None, 'Bathurst St And Davenport Rd', '6050', None, 4837201.72, '0384', None, 'Toronto and East York', 'BATHURST ST', None, None, '2009-03-18', 311574.569, None, 43.67673, None, \"Toronto-St. Paul's(12)\", '13', None], ['COMSTOCK RD', -79.284993, None, None, 'Warden Ave And Comstock Rd', '6051', None, 4842197.979, '0690', None, 'Scarborough', 'WARDEN AVE', None, None, '2008-10-28', 322107.819, None, 43.721532, None, 'Scarborough Southwest(20)', '41', None], ['COXWELL AVE', -79.316215, None, 'Beaches-East York(19)', 'Eastern Ave And Coxwell Ave', '6053', None, 4835966.241, '0301', None, 'Toronto and East York', 'EASTERN AVE', None, None, '2009-08-13', 319605.989, None, 43.665493, None, 'Toronto-Danforth(14)', '55', None], ['PROGRESS AVE', -79.272986, None, None, 'Midland Ave And Progress Ave', '6055', None, 4847914.517, '0691', None, 'Scarborough', 'MIDLAND AVE', None, None, '2009-04-16', 323059.67, None, 43.772965, None, 'Scarborough Centre(21)', '41', None], ['BELLAMY RD N', -79.235267, None, 'Scarborough-Guildwood(24)', 'Lawrence Ave E And Bellamy Rd N', '6056', None, 4846229.912, '0416', None, 'Scarborough', 'LAWRENCE AVE E', None, None, '2009-04-01', 326101.519, None, 43.757721, None, 'Scarborough Centre(21)', '43', None], ['BIRCHMOUNT RD', -79.26813, None, None, 'Danforth Rd And Birchmount Rd', '6058', None, 4840586.953, '0417', None, 'Scarborough', 'DANFORTH RD', None, None, '2010-02-25', 323470.998, None, 43.706998, None, 'Scarborough Southwest(20)', '41', None], ['BRIMLEY RD', -79.241448, None, None, 'St Clair Ave E And Brimley Rd', '6059', '43', 4842134.983, '0497', None, 'Scarborough', 'ST CLAIR AVE E', None, None, '2009-08-21', 325616.507, None, 43.720875, None, 'Scarborough Southwest(20)', '41', None], ['LAWRENCE AVE W', -79.478062, None, None, 'Keele St And Lawrence Ave W', '6060', None, 4840745.76, '0428', None, 'Etobicoke York', 'KEELE ST', None, None, '2009-03-19', 306552.209, None, 43.708659, None, 'York South-Weston(5)', '12', None], ['OSSINGTON AVE', -79.425659, None, 'University-Rosedale(11)', 'Bloor St W And Ossington Ave', '6061', None, 4835562.773, '0341', None, 'Toronto and East York', 'BLOOR ST W', None, None, '2011-11-22', 310779.95, None, 43.661984, None, 'Davenport(9)', '14', None], ['GREENWOOD AVE', -79.332382, None, None, 'Danforth Ave And Greenwood Ave', '6062', '55', 4837740.017, '0348', None, 'Toronto and East York', 'DANFORTH AVE', None, None, '2010-01-07', 318298.593, None, 43.681484, None, 'Toronto-Danforth(14)', '54', None], ['WOODBINE AVE', -79.305775, None, None, 'Queen St E And Woodbine Ave', '6063', None, 4836330.766, '0548', None, 'Toronto and East York', 'QUEEN ST E', None, None, '2009-08-06', 320447.069, None, 43.668757, None, 'Beaches-East York(19)', '55', None], ['JARVIS ST', -79.371913, None, None, 'King St E And Jarvis St', '6064', None, 4834288.112, '0003', None, 'Toronto and East York', 'KING ST E', None, None, '2009-08-06', 315116.671, None, 43.650463, None, 'Toronto Centre(13)', '51', None], ['LESLIE ST', -79.328436, None, None, 'Lake Shore Blvd E And Leslie St', '6065', None, 4835268.925, '0206', None, 'Toronto and East York', 'LAKE SHORE BLVD E', None, None, '2009-08-06', 318621.834, None, 43.659235, None, 'Toronto-Danforth(14)', '55', None], ['THE ESPLANADE', -79.370932, None, 'Toronto Centre(13)', 'Lower Jarvis St And The Esplanade', '6066', None, 4834039.609, '1392', None, 'Toronto and East York', 'LOWER JARVIS ST', None, None, '2009-08-06', 315196.191, None, 43.648225, None, 'Spadina-Fort York(10)', '51', None], ['CARLAW AVE', -79.337434, None, None, 'Lake Shore Blvd E And Carlaw Ave', '6067', None, 4834792.534, '0207', None, 'Toronto and East York', 'LAKE SHORE BLVD E', None, None, '2009-08-06', 317897.017, None, 43.65496, None, 'Toronto-Danforth(14)', '55', None], ['KEELE ST', -79.471598, None, None, 'Rogers Rd And Keele St', '6068', None, 4837799.319, '0394', None, 'Etobicoke York', 'ROGERS RD', None, None, '2009-09-08', 307074.075, None, 43.682136, None, 'York South-Weston(5)', '12', None], ['BLOOR ST W', -79.452453, None, None, 'Dundas St W And Bloor St W', '6069', None, 4834932.126, '0327', None, 'Toronto and East York', 'DUNDAS ST W', None, None, '2009-08-11', 308619.328, None, 43.656321, None, 'Parkdale-High Park(4)', '11', None], ['LAWRENCE AVE', -79.402195, None, 'Don Valley West(15)', 'Yonge St And Lawrence Ave', '6070', '53', 4842576.802, '0055', None, 'North York', 'YONGE ST', None, None, '2009-08-05', 312664.189, None, 43.725101, None, 'Eglinton-Lawrence(8)', '32', None], ['SPADINA RD', -79.419108, None, \"Toronto-St. Paul's(12)\", 'Eglinton Ave W And Spadina Rd', '6072', '53', 4840047.919, '0099', None, 'North York', 'EGLINTON AVE W', None, None, '2010-01-07', 311304.014, None, 43.702351, None, 'Eglinton-Lawrence(8)', '13', None], ['DON MILLS RD', -79.343448, None, None, 'Lawrence Ave E And Don Mills Rd', '6074', None, 4843925.114, '0402', None, 'North York', 'LAWRENCE AVE E', None, None, '2009-09-10', 317394.737, None, 43.737173, None, 'Don Valley East(16)', '33', None], ['SHEPPARD AVE E', -79.217665, None, 'Scarborough-Rouge Park(25)', 'Neilson Rd And Sheppard Ave E', '6075', None, 4850722.956, '1222', None, 'Scarborough', 'NEILSON RD', None, None, '2009-08-04', 327503.695, None, 43.798122, None, 'Scarborough North(23)', '42', None], ['MALVERN ST', -79.234931, None, None, 'Sheppard Ave E And Malvern St / Progress Ave', '6076', None, 4850333.978, '1568', None, 'Scarborough', 'SHEPPARD AVE E', None, None, '2009-08-04', 326115.545, 'PROGRESS AVE', 43.794662, None, 'Scarborough North(23)', '42', None], ['MILITARY TRL', -79.18831, None, None, 'Ellesmere Rd And Military Trl', '6077', None, 4849448.945, '1195', None, 'Scarborough', 'ELLESMERE RD', None, None, '2009-08-05', 329870.673, None, 43.786578, None, 'Scarborough-Rouge Park(25)', '43', None], ['401 C E KENNEDY RD RAMP', -79.283868, None, None, 'Kennedy Rd And 401 C E Kennedy Rd Ramp / William Kitchen Rd', '6078', None, 4847936.846, '0920', None, 'Scarborough', 'KENNEDY RD', None, None, '2017-12-19', 322183.578, 'WILLIAM KITCHEN RD', 43.773187, 'HWY 401 SOUTH INTERSECTION', 'Scarborough Centre(21)', '41', None], ['RICHMOND ST W', -79.386291, None, None, 'University Ave And Richmond St W', '6079', None, 4834244.65, '0079', None, 'Toronto and East York', 'UNIVERSITY AVE', None, None, '2017-07-24', 313956.891, None, 43.650087, None, 'Spadina-Fort York(10)', '52', None], ['PARLIAMENT ST', -79.363598, None, None, 'Adelaide St E And Parliament St', '6080', None, 4834633.695, '0214', None, 'Toronto and East York', 'ADELAIDE ST E', None, None, '2017-06-05', 315786.857, None, 43.653564, None, 'Toronto Centre(13)', '51', None], ['ADELAIDE ST W', -79.385556, None, None, 'University Ave And Adelaide St W', '6081', None, 4834109.412, '0078', None, 'Toronto and East York', 'UNIVERSITY AVE', None, None, '2017-10-20', 314016.369, None, 43.648869, None, 'Spadina-Fort York(10)', '52', None], ['MARTIN GROVE RD', -79.570838, None, 'Etobicoke Centre(2)', 'Dixon Rd And Martin Grove Rd', '6082', None, 4838851.9, '0437', None, 'Etobicoke York', 'DIXON RD', None, None, '2017-07-10', 299073.793, None, 43.691592, None, 'Etobicoke North(1)', '23', None], ['QUEEN ST W', -79.386628, None, None, 'University Ave And Queen St W', '6083', None, 4834329.609, '0080', None, 'Toronto and East York', 'UNIVERSITY AVE', None, None, '2017-08-31', 313929.591, None, 43.650852, None, 'Spadina-Fort York(10)', '52', None], ['WILSON AVE', -79.482069, None, None, 'Keele St And Wilson Ave', '6084', None, 4842743.474, '0597', None, 'North York', 'KEELE ST', None, None, '2017-10-20', 306228.868, None, 43.726642, None, 'York Centre(6)', '31', None], ['SPADINA AVE', -79.392226, None, None, 'Lake Shore Blvd W And Spadina Ave / Lower Spadina Ave', '6085', '52', 4832951.443, '0215', None, 'Toronto and East York', 'LAKE SHORE BLVD W', None, None, '2017-08-08', 313479.815, 'LOWER SPADINA AVE', 43.638453, 'E/B LAKE SHORE BLVD', 'Spadina-Fort York(10)', '14', None], ['PARK LAWN RD', -79.481211, None, None, 'Lake Shore Blvd W And Park Lawn Rd / Marine Parade Dr', '6086', None, 4831225.914, '0230', None, 'Etobicoke York', 'LAKE SHORE BLVD W', None, None, '2017-10-06', 306300.43, 'MARINE PARADE DR', 43.622968, None, 'Etobicoke-Lakeshore(3)', '22', None], ['BAYVIEW AVE', -79.388056, None, 'Don Valley North(17)', 'Sheppard Ave E And Bayview Ave', '6087', '32', 4847187.273, '0648', None, 'North York', 'SHEPPARD AVE E', None, None, '2017-07-14', 313797.139, None, 43.766589, None, 'Willowdale(18)', '33', None], ['WESTON RD', -79.546526, None, None, 'Steeles Ave W And Weston Rd', '6088', None, 4847592.524, '1289', None, 'Etobicoke York', 'STEELES AVE W', None, None, '2017-10-30', 301038.663, None, 43.770281, None, 'Humber River-Black Creek(7)', '31', None], ['GREENCEDAR CRCT', -79.233077, None, None, 'Lawrence Ave E And Greencedar Crct / Greenbrae Crct', '6089', None, 4846281.914, '0419', None, 'Scarborough', 'LAWRENCE AVE E', None, None, '2017-03-10', 326277.699, 'GREENBRAE CRCT', 43.758184, None, 'Scarborough-Guildwood(24)', '43', None], ['BIRCHMOUNT RD', -79.305981, None, None, 'Finch Ave E And Birchmount Rd', '6090', None, 4850799.975, '1138', None, 'Scarborough', 'FINCH AVE E', None, None, '2017-03-10', 320396.794, None, 43.798998, None, 'Scarborough-Agincourt(22)', '42', None], ['THE EAST MALL', -79.556709, None, 'Etobicoke-Lakeshore(3)', 'Bloor St W And The East Mall', '6092', None, 4832778.219, '0792', None, 'Etobicoke York', 'BLOOR ST W', None, None, '2017-12-19', 300208.498, None, 43.636929, None, 'Etobicoke Centre(2)', '22', None], ['JANE ST', -79.508634, None, 'York Centre(6)', 'Wilson Ave And Jane St', '6094', None, 4842107.159, '0532', None, 'Etobicoke York', 'WILSON AVE', None, None, '2017-03-09', 304088.572, None, 43.720915, None, 'Humber River-Black Creek(7)', '31', None], ['MCNICOLL AVE', -79.320975, None, None, 'Warden Ave And Mcnicoll Ave', '6095', None, 4851613.973, '1287', None, 'Scarborough', 'WARDEN AVE', None, None, '2017-03-10', 319188.501, None, 43.806349, None, 'Scarborough-Agincourt(22)', '42', None], ['KEELE ST', -79.494506, None, 'York Centre(6)', 'Steeles Ave W And Keele St', '6097', None, 4848846.568, '0602', None, 'Etobicoke York', 'STEELES AVE W', None, None, '2017-03-10', 305226.529, None, 43.781579, None, 'Humber River-Black Creek(7)', '31', None], ['WELLINGTON ST W', -79.384099, None, None, 'University Ave And Wellington St W', '6098', None, 4833833.389, '0076', None, 'Toronto and East York', 'UNIVERSITY AVE', None, None, '2017-09-06', 314134.293, None, 43.646383, None, 'Spadina-Fort York(10)', '52', None], ['KIPLING AVE', -79.580402, None, None, 'Albion Rd And Kipling Ave', '6099', None, 4844199.906, '0734', None, 'Etobicoke York', 'ALBION RD', None, None, '2017-07-10', 298308.035, None, 43.739724, None, 'Etobicoke North(1)', '23', None], ['KIPLING AVE', -79.526741, None, None, 'The Queensway And Kipling Ave', '6100', None, 4830998.372, '0568', None, 'Etobicoke York', 'THE QUEENSWAY', None, None, '2018-09-05', 302625.892, None, 43.620918, None, 'Etobicoke-Lakeshore(3)', '22', None], ['GORDON BAKER RD', -79.341261, None, None, 'Finch Ave E And Gordon Baker Rd / Finch E 404 N Ramp', '6101', None, 4850366.102, '1181', None, 'North York', 'FINCH AVE E', None, None, '2017-11-30', 317558.678, 'FINCH E 404 N RAMP', 43.795147, None, 'Don Valley North(17)', '33', None], ['ISABELLA ST', -79.379452, None, None, 'Jarvis St And Isabella St', '6102', None, 4836334.691, '0012', None, 'Toronto and East York', 'JARVIS ST', None, None, '2017-03-13', 314505.556, None, 43.668893, None, 'Toronto Centre(13)', '51', None], ['BRIMLEY RD', -79.247384, None, None, 'Danforth Rd And Brimley Rd', '6103', '43', 4843721.925, '0378', None, 'Scarborough', 'DANFORTH RD', None, None, '2017-03-10', 325133.443, None, 43.735173, None, 'Scarborough Southwest(20)', '41', None], ['RIVER ST', -79.358162, None, None, 'Dundas St E And River St', '6104', None, 4835482.525, '0293', None, 'Toronto and East York', 'DUNDAS ST E', None, None, '2017-07-10', 316223.928, None, 43.661198, None, 'Toronto Centre(13)', '51', None], ['MCNICOLL AVE', -79.27198, None, None, 'Mccowan Rd And Mcnicoll Ave', '6105', None, 4852911.403, '1493', None, 'Scarborough', 'MCCOWAN RD', None, None, '2017-03-14', 323127.089, None, 43.817941, None, 'Scarborough North(23)', '42', None], ['GUNNS RD', -79.471124, None, None, 'St Clair Ave W And Gunns Rd / Old Stock Yards Rd @ Home Depot Entrance', '6106', '11', 4836648.934, '1404', None, 'Etobicoke York', 'ST CLAIR AVE W', None, None, '2017-07-10', 307112.633, 'OLD STOCK YARDS RD', 43.671781, None, 'York South-Weston(5)', '12', 'HOME DEPOT ENTRANCE'], ['KING ST W', -79.395046, None, None, 'Spadina Ave And King St W', '6107', '52', 4833730.736, '0273', None, 'Toronto and East York', 'SPADINA AVE', None, None, '2017-11-03', 313251.296, None, 43.64547, None, 'Spadina-Fort York(10)', '14', None], ['MCCOWAN RD', -79.258838, None, None, 'Sheppard Ave E And Mccowan Rd', '6108', None, 4849767.982, '0938', None, 'Scarborough', 'SHEPPARD AVE E', None, None, '2017-03-10', 324193.31, None, 43.78962, None, 'Scarborough North(23)', '42', None], ['PARLIAMENT ST', -79.363245, None, None, 'King St E And Parliament St', '6109', None, 4834540.978, '0245', None, 'Toronto and East York', 'KING ST E', None, None, '2017-03-10', 315815.487, None, 43.652729, None, 'Toronto Centre(13)', '51', None], ['MARTIN GROVE RD', -79.581117, None, None, 'Rexdale Blvd And Martin Grove Rd', '6110', None, 4841324.811, '0790', None, 'Etobicoke York', 'REXDALE BLVD', None, None, '2017-04-11', 298247.609, None, 43.713844, None, 'Etobicoke North(1)', '23', None], ['THE EAST MALL', -79.546287, None, None, 'The Queensway And The East Mall', '6111', None, 4830499.207, '0911', None, 'Etobicoke York', 'THE QUEENSWAY', None, None, '2017-10-06', 301048.153, None, 43.616419, None, 'Etobicoke-Lakeshore(3)', '22', None], ['SPADINA RD', -79.411169, None, None, 'St Clair Ave W And Spadina Rd', '6112', '53', 4838079.242, '0479', None, 'Toronto and East York', 'ST CLAIR AVE W', None, None, '2017-07-14', 311945.947, None, 43.684625, None, \"Toronto-St. Paul's(12)\", '13', None], ['FINCH AVE W', -79.466927, None, None, 'Dufferin St And Finch Ave W', '6113', None, 4847433.189, '0618', None, 'North York', 'DUFFERIN ST', None, None, '2017-06-05', 307447.033, None, 43.768852, None, 'York Centre(6)', '32', None], ['EVANS AVE', -79.511328, None, None, 'Islington Ave And Evans Ave', '6114', None, 4830717.579, '0775', None, 'Etobicoke York', 'ISLINGTON AVE', None, None, '2017-06-05', 303869.794, None, 43.618393, None, 'Etobicoke-Lakeshore(3)', '22', None], ['MARTIN GROVE RD', -79.563176, None, 'Etobicoke Centre(2)', 'Eglinton Ave W And Martin Grove Rd', '6115', '22', 4836950.049, '0786', None, 'Etobicoke York', 'EGLINTON AVE W', None, None, '2017-07-10', 299689.993, None, 43.674477, None, 'Etobicoke North(1)', '23', None], ['BRIMLEY RD', -79.2774, None, None, 'Finch Ave E And Brimley Rd', '6116', None, 4851550.973, '1178', None, 'Scarborough', 'FINCH AVE E', None, None, '2017-03-10', 322694.701, None, 43.805706, None, 'Scarborough North(23)', '42', None], ['JAMESON AVE', -79.434563, None, None, 'Lake Shore Blvd W And Jameson Ave', '6117', None, 4832380.11, '0224', None, 'Toronto and East York', 'LAKE SHORE BLVD W', None, None, '2017-07-10', 310064.312, None, 43.633341, None, 'Parkdale-High Park(4)', '14', None], ['DANFORTH RD', -79.246164, None, 'Scarborough Southwest(20)', 'Eglinton Ave E And Danforth Rd', '6118', None, 4843935.967, '0379', None, 'Scarborough', 'EGLINTON AVE E', None, None, '2017-03-10', 325231.069, None, 43.737097, None, 'Scarborough Centre(21)', '43', None], ['MCLEVIN AVE', -79.221658, None, 'Scarborough-Rouge Park(25)', 'Neilson Rd And Mclevin Ave', '6119', None, 4851949.602, '1339', None, 'Scarborough', 'NEILSON RD', None, None, '2017-06-05', 327178.301, None, 43.809173, None, 'Scarborough North(23)', '42', None], ['WELLINGTON ST W', -79.385561, None, None, 'Simcoe St And Wellington St W', '6120', None, 4833796.556, '0264', None, 'Toronto and East York', 'SIMCOE ST', None, None, '2017-08-08', 314016.4, None, 43.646053, None, 'Spadina-Fort York(10)', '52', None], ['STONG CRT', -79.518822, None, None, 'Jane St And Stong Crt / York Gate Blvd', '6121', None, 4846662.387, '0972', None, 'Etobicoke York', 'JANE ST', None, None, '2017-10-20', 303268.823, 'YORK GATE BLVD', 43.761917, None, 'Humber River-Black Creek(7)', '31', None], ['BELLAMY RD N', -79.241759, None, None, 'Ellesmere Rd And Bellamy Rd N', '6122', None, 4848073.896, '0700', None, 'Scarborough', 'ELLESMERE RD', None, None, '2017-03-10', 325573.065, None, 43.774334, None, 'Scarborough-Guildwood(24)', '43', None], ['KENNEDY RD', -79.274934, None, None, 'Lawrence Ave E And Kennedy Rd', '6123', None, 4845306.892, '0412', None, 'Scarborough', 'LAWRENCE AVE E', None, None, '2017-03-10', 322909.889, None, 43.749497, None, 'Scarborough Centre(21)', '41', None], ['COMSTOCK RD', -79.284993, None, None, 'Warden Ave And Comstock Rd', '6124', None, 4842197.979, '0690', None, 'Scarborough', 'WARDEN AVE', None, None, '2017-03-10', 322107.819, None, 43.721532, None, 'Scarborough Southwest(20)', '41', None], ['MALVERN ST', -79.234931, None, None, 'Sheppard Ave E And Malvern St / Progress Ave', '6125', None, 4850333.978, '1568', None, 'Scarborough', 'SHEPPARD AVE E', None, None, '2017-05-03', 326115.545, 'PROGRESS AVE', 43.794662, None, 'Scarborough North(23)', '42', None], ['KIPLING AVE', -79.566702, None, None, 'Rexdale Blvd And Kipling Ave', '6126', None, 4841085.956, '0732', None, 'Etobicoke York', 'REXDALE BLVD', None, None, '2017-10-20', 299408.997, None, 43.711703, None, 'Etobicoke North(1)', '23', None], ['LAWRENCE AVE W', -79.516201, None, None, 'Weston Rd And Lawrence Ave W', '6127', None, 4839801.359, '0431', None, 'Etobicoke York', 'WESTON RD', None, None, '2017-10-20', 303478.356, None, 43.700158, None, 'York South-Weston(5)', '12', None], ['ALBION RD', -79.565305, None, None, 'Islington Ave And Albion Rd', '6128', None, 4843922.419, '0717', None, 'Etobicoke York', 'ISLINGTON AVE', None, None, '2017-06-19', 299523.89, None, 43.737236, None, 'Etobicoke North(1)', '23', None], ['ISLINGTON AVE', -79.514783, None, None, 'The Queensway And Islington Ave', '6129', None, 4831295.223, '0567', None, 'Etobicoke York', 'THE QUEENSWAY', None, None, '2018-02-16', 303591.032, None, 43.623592, None, 'Etobicoke-Lakeshore(3)', '22', None], ['STEELES AVE', -79.420084, None, None, 'Yonge St And Steeles Ave', '6130', None, 4850673.923, '0131', None, 'North York', 'YONGE ST', None, None, '2017-08-11', 311215.151, None, 43.797999, None, 'Willowdale(18)', '32', None], ['RUNNYMEDE RD', -79.483564, None, None, 'St Clair Ave W And Runnymede Rd', '6131', '11', 4836338.965, '0494', None, 'Etobicoke York', 'ST CLAIR AVE W', None, None, '2017-08-11', 306109.535, None, 43.668993, None, 'York South-Weston(5)', '12', None], ['ASHTONBEE RD', -79.288762, None, None, 'Warden Ave And Ashtonbee Rd', '6132', None, 4843216.949, '1377', None, 'Scarborough', 'WARDEN AVE', None, None, '2017-03-13', 321801.565, None, 43.730711, None, 'Scarborough Centre(21)', '41', None], ['LAWRENCE AVE W', -79.478062, None, None, 'Keele St And Lawrence Ave W', '6134', None, 4840745.76, '0428', None, 'Etobicoke York', 'KEELE ST', None, None, '2017-08-11', 306552.209, None, 43.708659, None, 'York South-Weston(5)', '12', None], ['MCNICOLL AVE', -79.311168, None, None, 'Birchmount Rd And Mcnicoll Ave', '6135', None, 4851869.894, '1413', None, 'Scarborough', 'BIRCHMOUNT RD', None, None, '2017-08-11', 319976.992, None, 43.808637, None, 'Scarborough-Agincourt(22)', '42', None], ['MIDDLEFIELD RD', -79.257699, None, None, 'Finch Ave E And Middlefield Rd', '6136', None, 4852019.956, '1431', None, 'Scarborough', 'FINCH AVE E', None, None, '2017-03-24', 324278.441, None, 43.809888, None, 'Scarborough North(23)', '42', None], ['ISLINGTON AVE', -79.546731, None, 'Etobicoke Centre(2)', 'Dixon Rd And Islington Ave', '6137', None, 4839456.95, '0434', None, 'Etobicoke York', 'DIXON RD', None, None, '2017-12-19', 301017.401, None, 43.697049, None, 'Etobicoke North(1)', '23', None], ['BREMNER BLVD', -79.393004, None, None, 'Spadina Ave And Bremner Blvd / Fort York Blvd', '6138', '52', 4833185.658, '1579', None, 'Toronto and East York', 'SPADINA AVE', None, None, '2017-09-28', 313416.743, 'FORT YORK BLVD', 43.640562, None, 'Spadina-Fort York(10)', '14', None], ['ROYAL YORK RD', -79.502632, None, None, 'The Queensway And Royal York Rd', '6139', None, 4831599.964, '0565', None, 'Etobicoke York', 'THE QUEENSWAY', None, None, '2017-06-05', 304571.656, None, 43.626336, None, 'Etobicoke-Lakeshore(3)', '22', None], ['STRACHAN AVE', -79.408745, None, None, 'Lake Shore Blvd W And Strachan Ave / Remembrance Dr', '6140', None, 4832504.251, '0222', None, 'Toronto and East York', 'LAKE SHORE BLVD W', None, None, '2017-10-06', 312147.469, 'REMEMBRANCE DR', 43.634442, None, 'Spadina-Fort York(10)', '14', None], ['MARKHAM RD', -79.225324, None, None, 'Lawrence Ave E And Markham Rd', '6141', None, 4846465.927, '0420', None, 'Scarborough', 'LAWRENCE AVE E', None, None, '2017-03-24', 326901.403, None, 43.759822, None, 'Scarborough-Guildwood(24)', '43', None], ['FALSTAFF AVE', -79.507224, None, None, 'Jane St And Falstaff Ave / Gordon Mackay Rd', '6142', None, 4841500.697, '0531', None, 'Etobicoke York', 'JANE ST', None, None, '2017-10-20', 304202.117, 'GORDON MACKAY RD', 43.715456, None, 'York South-Weston(5)', '12', None], ['LAWRENCE AVE W', -79.415609, None, None, 'Avenue Rd And Lawrence Ave W', '6143', '53', 4842259.433, '0119', None, 'North York', 'AVENUE RD', None, None, '2017-03-14', 311583.791, None, 43.722255, None, 'Eglinton-Lawrence(8)', '32', None], ['MCNICOLL AVE', -79.330734, None, None, 'Pharmacy Ave And Mcnicoll Ave', '6145', None, 4851364.932, '1241', None, 'Scarborough', 'PHARMACY AVE', None, None, '2017-03-24', 318403.813, None, 43.804122, None, 'Scarborough-Agincourt(22)', '42', None], ['PROGRESS AVE', -79.23389, None, None, 'Markham Rd And Progress Ave', '6146', None, 4848899.321, '0878', None, 'Scarborough', 'MARKHAM RD', None, None, '2017-08-11', 326203.894, None, 43.781746, None, 'Scarborough-Guildwood(24)', '43', None], ['SHEPPARD AVE E', -79.238752, None, None, 'Markham Rd And Sheppard Ave E', '6147', None, 4850244.909, '0701', None, 'Scarborough', 'MARKHAM RD', None, None, '2017-04-11', 325808.329, None, 43.793869, None, 'Scarborough North(23)', '42', None], ['VAN HORNE AVE', -79.353029, None, None, 'Don Mills Rd And Van Horne Ave', '6148', None, 4849497.612, '0628', None, 'North York', 'DON MILLS RD', None, None, '2017-07-10', 316613.194, None, 43.787345, None, 'Don Valley North(17)', '33', None], ['MORNINGSIDE AVE', -79.199771, None, None, 'Sheppard Ave E And Morningside Ave', '6149', None, 4851155.935, '1108', None, 'Scarborough', 'SHEPPARD AVE E', None, None, '2017-03-10', 328942.066, None, 43.801974, None, 'Scarborough-Rouge Park(25)', '42', None], ['MILNER AVE', -79.19908, None, None, 'Morningside Ave And Milner Ave', '6150', None, 4850967.949, '1584', None, 'Scarborough', 'MORNINGSIDE AVE', None, None, '2017-03-10', 328998.338, None, 43.80028, None, 'Scarborough-Rouge Park(25)', '42', None], ['MCNICOLL AVE', -79.301945, None, None, 'Kennedy Rd And Mcnicoll Ave', '6152', None, 4852260.349, '1586', None, 'Scarborough', 'KENNEDY RD', None, None, '2017-09-28', 320718.125, None, 43.812136, None, 'Scarborough-Agincourt(22)', '42', None], ['ELLESMERE RD', -79.231756, None, None, 'Markham Rd And Ellesmere Rd', '6153', None, 4848309.972, '0702', None, 'Scarborough', 'MARKHAM RD', None, None, '2018-02-16', 326377.567, None, 43.776436, None, 'Scarborough-Guildwood(24)', '43', None], ['KEELE ST', -79.460048, None, None, 'Bloor St W And Keele St / Parkside Dr', '6154', None, 4834752.513, '0328', None, 'Toronto and East York', 'BLOOR ST W', None, None, '2018-09-05', 308006.803, 'PARKSIDE DR', 43.654707, None, 'Parkdale-High Park(4)', '11', None], ['SCARLETT RD', -79.511457, None, None, 'Eglinton Ave W And Scarlett Rd', '6155', '22', 4838001.99, '0784', None, 'Etobicoke York', 'EGLINTON AVE W', None, None, '2019-06-03', 303860.446, None, 43.683962, None, 'Etobicoke Centre(2)', '23', None], ['DUFFERIN ST', -79.470089, None, None, 'Steeles Ave W And Dufferin St', '6156', None, 4849480.7, '0619', None, 'North York', 'STEELES AVE W', None, None, '2018-09-05', 307191.725, None, 43.787283, None, 'York Centre(6)', '32', None], ['DUPONT ST', -79.439035, None, None, 'Dufferin St And Dupont St', '6157', '14', 4836281.799, '0608', None, 'Toronto and East York', 'DUFFERIN ST', None, None, '2018-11-28', 309700.587, None, 43.668464, None, 'Davenport(9)', '11', None], ['ISLINGTON AVE', -79.523438, None, None, 'Bloor St W And Islington Ave', '6158', None, 4833634.632, '0339', None, 'Etobicoke York', 'BLOOR ST W', None, None, '2018-11-28', 302893.113, None, 43.644648, None, 'Etobicoke-Lakeshore(3)', '22', None], ['HIGHWAY 27', -79.61409, None, None, 'Steeles Ave W And Highway 27', '6159', None, 4845950.63, '1793', None, 'Etobicoke York', 'STEELES AVE W', None, None, '2019-03-01', 295596.993, None, 43.755454, None, 'Etobicoke North(1)', '23', None], ['DON MILLS RD', -79.34704, None, None, 'Sheppard Ave E And Don Mills Rd', '6160', None, 4848138.859, '0627', None, 'North York', 'SHEPPARD AVE E', None, None, '2019-09-19', 317097.688, None, 43.775107, None, 'Don Valley North(17)', '33', None], ['SIGNET DR', -79.543448, None, None, 'Steeles Ave W And Signet Dr / Weston Rd', '6161', None, 4847663.376, '1232', None, 'Etobicoke York', 'STEELES AVE W', None, None, '2019-06-03', 301286.497, 'WESTON RD', 43.77092, None, 'Humber River-Black Creek(7)', '31', None]]\n"
     ]
    },
    {
     "ename": "InvalidDatetimeFormat",
     "evalue": "invalid input syntax for type date: \"0223\"\nLINE 1: ...d St E And Parliament St','6001',NULL,4834744.176,'0223',NUL...\n                                                             ^\n",
     "output_type": "error",
     "traceback": [
      "\u001b[0;31m---------------------------------------------------------------------------\u001b[0m",
      "\u001b[0;31mInvalidDatetimeFormat\u001b[0m                     Traceback (most recent call last)",
      "\u001b[0;32m<ipython-input-8-35229b19f466>\u001b[0m in \u001b[0;36m<module>\u001b[0;34m\u001b[0m\n\u001b[0;32m----> 1\u001b[0;31m \u001b[0mpull_rlc\u001b[0m\u001b[0;34m(\u001b[0m\u001b[0mconn\u001b[0m\u001b[0;34m)\u001b[0m\u001b[0;34m\u001b[0m\u001b[0m\n\u001b[0m",
      "\u001b[0;32m<ipython-input-3-b35a668fe071>\u001b[0m in \u001b[0;36mpull_rlc\u001b[0;34m(conn)\u001b[0m\n\u001b[1;32m     16\u001b[0m         \u001b[0mprint\u001b[0m\u001b[0;34m(\u001b[0m\u001b[0minsert\u001b[0m\u001b[0;34m)\u001b[0m\u001b[0;34m\u001b[0m\u001b[0m\n\u001b[1;32m     17\u001b[0m         \u001b[0mprint\u001b[0m\u001b[0;34m(\u001b[0m\u001b[0mrows\u001b[0m\u001b[0;34m)\u001b[0m\u001b[0;34m\u001b[0m\u001b[0m\n\u001b[0;32m---> 18\u001b[0;31m         \u001b[0mexecute_values\u001b[0m\u001b[0;34m(\u001b[0m\u001b[0mcur\u001b[0m\u001b[0;34m,\u001b[0m \u001b[0minsert\u001b[0m\u001b[0;34m,\u001b[0m \u001b[0mrows\u001b[0m\u001b[0;34m)\u001b[0m\u001b[0;34m\u001b[0m\u001b[0m\n\u001b[0m\u001b[1;32m     19\u001b[0m         \u001b[0mprint\u001b[0m\u001b[0;34m(\u001b[0m\u001b[0mrows\u001b[0m\u001b[0;34m)\u001b[0m\u001b[0;34m\u001b[0m\u001b[0m\n",
      "\u001b[0;32m/etc/jupyterhub/.venv/lib/python3.5/site-packages/psycopg2/extras.py\u001b[0m in \u001b[0;36mexecute_values\u001b[0;34m(cur, sql, argslist, template, page_size, fetch)\u001b[0m\n\u001b[1;32m   1287\u001b[0m             \u001b[0mparts\u001b[0m\u001b[0;34m.\u001b[0m\u001b[0mappend\u001b[0m\u001b[0;34m(\u001b[0m\u001b[0;34mb','\u001b[0m\u001b[0;34m)\u001b[0m\u001b[0;34m\u001b[0m\u001b[0m\n\u001b[1;32m   1288\u001b[0m         \u001b[0mparts\u001b[0m\u001b[0;34m[\u001b[0m\u001b[0;34m-\u001b[0m\u001b[0;36m1\u001b[0m\u001b[0;34m:\u001b[0m\u001b[0;34m]\u001b[0m \u001b[0;34m=\u001b[0m \u001b[0mpost\u001b[0m\u001b[0;34m\u001b[0m\u001b[0m\n\u001b[0;32m-> 1289\u001b[0;31m         \u001b[0mcur\u001b[0m\u001b[0;34m.\u001b[0m\u001b[0mexecute\u001b[0m\u001b[0;34m(\u001b[0m\u001b[0;34mb''\u001b[0m\u001b[0;34m.\u001b[0m\u001b[0mjoin\u001b[0m\u001b[0;34m(\u001b[0m\u001b[0mparts\u001b[0m\u001b[0;34m)\u001b[0m\u001b[0;34m)\u001b[0m\u001b[0;34m\u001b[0m\u001b[0m\n\u001b[0m\u001b[1;32m   1290\u001b[0m         \u001b[0;32mif\u001b[0m \u001b[0mfetch\u001b[0m\u001b[0;34m:\u001b[0m\u001b[0;34m\u001b[0m\u001b[0m\n\u001b[1;32m   1291\u001b[0m             \u001b[0mresult\u001b[0m\u001b[0;34m.\u001b[0m\u001b[0mextend\u001b[0m\u001b[0;34m(\u001b[0m\u001b[0mcur\u001b[0m\u001b[0;34m.\u001b[0m\u001b[0mfetchall\u001b[0m\u001b[0;34m(\u001b[0m\u001b[0;34m)\u001b[0m\u001b[0;34m)\u001b[0m\u001b[0;34m\u001b[0m\u001b[0m\n",
      "\u001b[0;31mInvalidDatetimeFormat\u001b[0m: invalid input syntax for type date: \"0223\"\nLINE 1: ...d St E And Parliament St','6001',NULL,4834744.176,'0223',NUL...\n                                                             ^\n"
     ]
    }
   ],
   "source": [
    "pull_rlc(conn)"
   ]
  },
  {
   "cell_type": "code",
   "execution_count": null,
   "metadata": {},
   "outputs": [],
   "source": []
  },
  {
   "cell_type": "markdown",
   "metadata": {},
   "source": [
    "## Change owner"
   ]
  },
  {
   "cell_type": "code",
   "execution_count": 9,
   "metadata": {},
   "outputs": [],
   "source": [
    "query='''\n",
    "ALTER TABLE vz_safety_programs_staging.rlc_manual\n",
    "    OWNER to vz_admins;\n",
    "'''\n",
    "\n",
    "cur = conn.cursor()\n",
    "cur.execute(query)\n",
    "cur.close()"
   ]
  },
  {
   "cell_type": "code",
   "execution_count": null,
   "metadata": {},
   "outputs": [],
   "source": []
  },
  {
   "cell_type": "markdown",
   "metadata": {},
   "source": [
    "## Count rows in updated table"
   ]
  },
  {
   "cell_type": "code",
   "execution_count": 10,
   "metadata": {},
   "outputs": [
    {
     "name": "stdout",
     "output_type": "stream",
     "text": [
      "(148,)\n"
     ]
    }
   ],
   "source": [
    "query='''\n",
    "SELECT COUNT(*) FROM vz_safety_programs_staging.rlc_manual;\n",
    "'''\n",
    "\n",
    "cur = conn.cursor()\n",
    "cur.execute(query)\n",
    "row = cur.fetchone()\n",
    "print(row)\n",
    "\n",
    "cur.close()"
   ]
  },
  {
   "cell_type": "code",
   "execution_count": null,
   "metadata": {},
   "outputs": [],
   "source": []
  },
  {
   "cell_type": "code",
   "execution_count": null,
   "metadata": {},
   "outputs": [],
   "source": []
  }
 ],
 "metadata": {
  "kernelspec": {
   "display_name": "Python 3",
   "language": "python",
   "name": "python3"
  },
  "language_info": {
   "codemirror_mode": {
    "name": "ipython",
    "version": 3
   },
   "file_extension": ".py",
   "mimetype": "text/x-python",
   "name": "python",
   "nbconvert_exporter": "python",
   "pygments_lexer": "ipython3",
   "version": "3.5.2"
  }
 },
 "nbformat": 4,
 "nbformat_minor": 4
}
